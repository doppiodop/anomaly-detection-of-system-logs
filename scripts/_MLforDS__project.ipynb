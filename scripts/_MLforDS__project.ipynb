{
 "cells": [
  {
   "cell_type": "code",
   "execution_count": 1,
   "id": "a340c607",
   "metadata": {},
   "outputs": [],
   "source": [
    "import numpy as np\n",
    "import pandas as pd\n",
    "import matplotlib.pyplot as plt\n",
    "from sklearn.model_selection import train_test_split\n",
    "from sklearn.metrics import precision_recall_fscore_support\n",
    "from sklearn.metrics import accuracy_score\n",
    "from imblearn.over_sampling import RandomOverSampler\n",
    "import math\n",
    "# import nltk\n",
    "# nltk.download(\"stopwords\")\n",
    "from sklearn.feature_extraction.text import TfidfVectorizer\n",
    "from nltk.corpus import stopwords\n",
    "from pymystem3 import Mystem\n",
    "from string import punctuation\n",
    "from sklearn.feature_extraction.text import CountVectorizer\n",
    "from nltk.stem import WordNetLemmatizer\n",
    "from scikitplot.metrics import plot_roc\n",
    "\n",
    "\n",
    "def round_up(n, decimals=2):\n",
    "    multiplier = 10 ** decimals\n",
    "    return math.floor(n * multiplier) / multiplier"
   ]
  },
  {
   "cell_type": "code",
   "execution_count": 2,
   "id": "3e7df2a7",
   "metadata": {},
   "outputs": [],
   "source": [
    "with open('tbird2_1G', 'r', newline='\\n') as f2:\n",
    "    file_content = f2.readlines()[:-1]"
   ]
  },
  {
   "cell_type": "code",
   "execution_count": 3,
   "id": "c56a0da9",
   "metadata": {},
   "outputs": [],
   "source": [
    "### create DataFrame\n",
    "df = pd.DataFrame(file_content, columns=['raw']) # file_content[-20:]\n",
    "df['hyp'] = df.raw.apply(lambda x: x.split()[0])\n",
    "df['id'] = df.raw.apply(lambda x: x.split()[1])\n",
    "# df['date'] = df.raw.apply(lambda x: x.split()[2])\n",
    "# df['account'] = df.raw.apply(lambda x: x.split()[3])\n",
    "# df['log'] = df.raw.apply(lambda x: ' '.join(x.split()[4:]))\n",
    "df['log'] = df.raw.apply(lambda x: ' '.join(x.split()[2:]))\n",
    "\n",
    "### target definition\n",
    "# df['alert_flg'] = df.log.apply(lambda x: 1 if 'ALERT' in x else 0)\n",
    "# df['fatal_flg'] = df.log.apply(lambda x: 1 if 'FATAL' in x else 0)\n",
    "# df['failed_flg'] = df.log.apply(lambda x: 1 if 'FAILED' in x else 0)\n",
    "df['alert_flg'] = df.log.apply(lambda x: 1 if 'alert' in x.lower() else 0)\n",
    "df['fatal_flg'] = df.log.apply(lambda x: 1 if 'fatal' in x.lower() else 0)\n",
    "df['failed_flg'] = df.log.apply(lambda x: 1 if 'failed' in x.lower() else 0)\n",
    "df['target'] = np.where(df['alert_flg']+df['fatal_flg']+df['failed_flg']>0, 1, 0)\n",
    "\n",
    "df.drop(columns=['raw'], inplace=True)"
   ]
  },
  {
   "cell_type": "code",
   "execution_count": 4,
   "id": "c778698c",
   "metadata": {},
   "outputs": [],
   "source": [
    "# drop duplicates\n",
    "# df.groupby('id').count().sort_values('log', ascending=False)\n",
    "# df.groupby('log').count().sort_values('id', ascending=False)\n",
    "df = df.drop_duplicates(subset=['log'])"
   ]
  },
  {
   "cell_type": "code",
   "execution_count": 5,
   "id": "a7c603f0",
   "metadata": {},
   "outputs": [
    {
     "name": "stdout",
     "output_type": "stream",
     "text": [
      "- 1132502080 2005.11.20 an230 Nov 20 07:54:40 an230/an230 snmpd[1976]: Got trap from peer on fd 13\r\n",
      "\n",
      "- 1132502061 2005.11.20 tbird-sm1 Nov 20 07:54:21 src@tbird-sm1 ib_sm.x[24904]: [ib_sm_discovery.c:470]: Failed to GetNodeInfo() because of NO RESPONSE\r\n",
      "\n",
      "- 1131524071 2005.11.09 tbird-admin1 Nov 10 00:14:31 local@tbird-admin1 postfix/postdrop[10896]: warning: unable to look up public/pickup: No such file or directory\r\n",
      "\n",
      "- 1131569328 2005.11.09 tbird-admin1 Nov 9 12:48:48 local@tbird-admin1 /apps/x86_64/system/ganglia-3.0.1/sbin/gmetad[1682]: data_thread() got not answer from any [Thunderbird_D7] datasource\r\n",
      "\n"
     ]
    }
   ],
   "source": [
    "print(file_content[-1])\n",
    "print(file_content[-100])\n",
    "print(file_content[1])\n",
    "print(file_content[12345])"
   ]
  },
  {
   "cell_type": "code",
   "execution_count": 6,
   "id": "03170a28",
   "metadata": {},
   "outputs": [
    {
     "name": "stdout",
     "output_type": "stream",
     "text": [
      "198, 294511, 817472, 1112181\n"
     ]
    },
    {
     "data": {
      "text/plain": [
       "0    4280569\n",
       "1     960171\n",
       "Name: target, dtype: int64"
      ]
     },
     "execution_count": 6,
     "metadata": {},
     "output_type": "execute_result"
    }
   ],
   "source": [
    "### class balance\n",
    "print(df['alert_flg'].sum(), df['fatal_flg'].sum(), df['failed_flg'].sum(), \n",
    "      df['alert_flg'].sum() + df['fatal_flg'].sum() + df['failed_flg'].sum(), sep=', ')\n",
    "df.hyp.value_counts()\n",
    "df.target.value_counts()"
   ]
  },
  {
   "cell_type": "code",
   "execution_count": 7,
   "id": "28435126",
   "metadata": {},
   "outputs": [],
   "source": [
    "# IV. B. 'training set and test set with a ratio of 8:2'\n",
    "\n",
    "X_train, X_test, y_train, y_test = train_test_split(df[['log']], df.target, test_size=0.2)"
   ]
  },
  {
   "cell_type": "code",
   "execution_count": 8,
   "id": "673b7b9d",
   "metadata": {},
   "outputs": [
    {
     "data": {
      "text/plain": [
       "(0    4280569\n",
       " 1     960171\n",
       " Name: target, dtype: int64,\n",
       " 0    3424376\n",
       " 1    3424376\n",
       " Name: target, dtype: int64,\n",
       " 0    856193\n",
       " 1    191955\n",
       " Name: target, dtype: int64)"
      ]
     },
     "execution_count": 8,
     "metadata": {},
     "output_type": "execute_result"
    }
   ],
   "source": [
    "### OVERSAMPLING ?????\n",
    "ros = RandomOverSampler(random_state=42)\n",
    "X_train, y_train = ros.fit_resample(X_train, y_train)\n",
    "X_train, X_test = X_train.log, X_test.log\n",
    "\n",
    "df.target.value_counts(), y_train.value_counts(), y_test.value_counts()"
   ]
  },
  {
   "cell_type": "markdown",
   "id": "7ff2f071",
   "metadata": {},
   "source": [
    "#### preprocessing"
   ]
  },
  {
   "cell_type": "code",
   "execution_count": 10,
   "id": "3997ea92",
   "metadata": {},
   "outputs": [],
   "source": [
    "# tokenize\n",
    "X_train_tok = X_train.apply(CountVectorizer().build_tokenizer())\n",
    "X_test_tok = X_test.apply(CountVectorizer().build_tokenizer())\n",
    "\n",
    "# create lemmatizer and stopwords list\n",
    "lemmatizer = WordNetLemmatizer() # Mystem()\n",
    "stopwords_list = stopwords.words('english')\n",
    "\n",
    "# preprocess function\n",
    "def preprocess_text(text):\n",
    "    tokens = [lemmatizer.lemmatize(w.lower()) for w in text \n",
    "      if w.lower() not in stopwords_list and w not in punctuation]\n",
    "    return ' '.join(tokens)\n",
    "\n",
    "X_train_preproc = X_train_tok.apply(preprocess_text)\n",
    "print('DONE')\n",
    "X_test_preproc = X_test_tok.apply(preprocess_text)\n",
    "print('DONE')"
   ]
  },
  {
   "cell_type": "code",
   "execution_count": 11,
   "id": "b56c54f7",
   "metadata": {},
   "outputs": [],
   "source": [
    "### save datasets\n",
    "# X_train_preproc.to_csv('X_train_preproc.csv')\n",
    "# X_test_preproc.to_csv('X_test_preproc.csv')"
   ]
  },
  {
   "cell_type": "code",
   "execution_count": 12,
   "id": "a71bce1e",
   "metadata": {},
   "outputs": [],
   "source": [
    "### no preprocessing option\n",
    "X_train_preproc = X_train.copy()\n",
    "X_test_preproc = X_test.copy()\n",
    "\n",
    "### TF-IDF vectorization\n",
    "tfidf = TfidfVectorizer(min_df=5, stop_words='english') # max_features=3000\n",
    "X_train_tfidf = tfidf.fit_transform(X_train_preproc)\n",
    "X_test_tfidf = tfidf.transform(X_test_preproc)"
   ]
  },
  {
   "cell_type": "code",
   "execution_count": 13,
   "id": "2d083e9e",
   "metadata": {},
   "outputs": [
    {
     "data": {
      "text/plain": [
       "(6848752, 68792)"
      ]
     },
     "execution_count": 13,
     "metadata": {},
     "output_type": "execute_result"
    }
   ],
   "source": [
    "X_train_tfidf.shape"
   ]
  },
  {
   "cell_type": "markdown",
   "id": "6183ef89",
   "metadata": {},
   "source": [
    "### models"
   ]
  },
  {
   "cell_type": "code",
   "execution_count": 14,
   "id": "2179c7cd",
   "metadata": {},
   "outputs": [],
   "source": [
    "models_d = {}"
   ]
  },
  {
   "cell_type": "code",
   "execution_count": 24,
   "id": "b1ef58e7",
   "metadata": {},
   "outputs": [
    {
     "data": {
      "text/html": [
       "<style>#sk-container-id-3 {color: black;background-color: white;}#sk-container-id-3 pre{padding: 0;}#sk-container-id-3 div.sk-toggleable {background-color: white;}#sk-container-id-3 label.sk-toggleable__label {cursor: pointer;display: block;width: 100%;margin-bottom: 0;padding: 0.3em;box-sizing: border-box;text-align: center;}#sk-container-id-3 label.sk-toggleable__label-arrow:before {content: \"▸\";float: left;margin-right: 0.25em;color: #696969;}#sk-container-id-3 label.sk-toggleable__label-arrow:hover:before {color: black;}#sk-container-id-3 div.sk-estimator:hover label.sk-toggleable__label-arrow:before {color: black;}#sk-container-id-3 div.sk-toggleable__content {max-height: 0;max-width: 0;overflow: hidden;text-align: left;background-color: #f0f8ff;}#sk-container-id-3 div.sk-toggleable__content pre {margin: 0.2em;color: black;border-radius: 0.25em;background-color: #f0f8ff;}#sk-container-id-3 input.sk-toggleable__control:checked~div.sk-toggleable__content {max-height: 200px;max-width: 100%;overflow: auto;}#sk-container-id-3 input.sk-toggleable__control:checked~label.sk-toggleable__label-arrow:before {content: \"▾\";}#sk-container-id-3 div.sk-estimator input.sk-toggleable__control:checked~label.sk-toggleable__label {background-color: #d4ebff;}#sk-container-id-3 div.sk-label input.sk-toggleable__control:checked~label.sk-toggleable__label {background-color: #d4ebff;}#sk-container-id-3 input.sk-hidden--visually {border: 0;clip: rect(1px 1px 1px 1px);clip: rect(1px, 1px, 1px, 1px);height: 1px;margin: -1px;overflow: hidden;padding: 0;position: absolute;width: 1px;}#sk-container-id-3 div.sk-estimator {font-family: monospace;background-color: #f0f8ff;border: 1px dotted black;border-radius: 0.25em;box-sizing: border-box;margin-bottom: 0.5em;}#sk-container-id-3 div.sk-estimator:hover {background-color: #d4ebff;}#sk-container-id-3 div.sk-parallel-item::after {content: \"\";width: 100%;border-bottom: 1px solid gray;flex-grow: 1;}#sk-container-id-3 div.sk-label:hover label.sk-toggleable__label {background-color: #d4ebff;}#sk-container-id-3 div.sk-serial::before {content: \"\";position: absolute;border-left: 1px solid gray;box-sizing: border-box;top: 0;bottom: 0;left: 50%;z-index: 0;}#sk-container-id-3 div.sk-serial {display: flex;flex-direction: column;align-items: center;background-color: white;padding-right: 0.2em;padding-left: 0.2em;position: relative;}#sk-container-id-3 div.sk-item {position: relative;z-index: 1;}#sk-container-id-3 div.sk-parallel {display: flex;align-items: stretch;justify-content: center;background-color: white;position: relative;}#sk-container-id-3 div.sk-item::before, #sk-container-id-3 div.sk-parallel-item::before {content: \"\";position: absolute;border-left: 1px solid gray;box-sizing: border-box;top: 0;bottom: 0;left: 50%;z-index: -1;}#sk-container-id-3 div.sk-parallel-item {display: flex;flex-direction: column;z-index: 1;position: relative;background-color: white;}#sk-container-id-3 div.sk-parallel-item:first-child::after {align-self: flex-end;width: 50%;}#sk-container-id-3 div.sk-parallel-item:last-child::after {align-self: flex-start;width: 50%;}#sk-container-id-3 div.sk-parallel-item:only-child::after {width: 0;}#sk-container-id-3 div.sk-dashed-wrapped {border: 1px dashed gray;margin: 0 0.4em 0.5em 0.4em;box-sizing: border-box;padding-bottom: 0.4em;background-color: white;}#sk-container-id-3 div.sk-label label {font-family: monospace;font-weight: bold;display: inline-block;line-height: 1.2em;}#sk-container-id-3 div.sk-label-container {text-align: center;}#sk-container-id-3 div.sk-container {/* jupyter's `normalize.less` sets `[hidden] { display: none; }` but bootstrap.min.css set `[hidden] { display: none !important; }` so we also need the `!important` here to be able to override the default hidden behavior on the sphinx rendered scikit-learn.org. See: https://github.com/scikit-learn/scikit-learn/issues/21755 */display: inline-block !important;position: relative;}#sk-container-id-3 div.sk-text-repr-fallback {display: none;}</style><div id=\"sk-container-id-3\" class=\"sk-top-container\"><div class=\"sk-text-repr-fallback\"><pre>LogisticRegression(max_iter=300)</pre><b>In a Jupyter environment, please rerun this cell to show the HTML representation or trust the notebook. <br />On GitHub, the HTML representation is unable to render, please try loading this page with nbviewer.org.</b></div><div class=\"sk-container\" hidden><div class=\"sk-item\"><div class=\"sk-estimator sk-toggleable\"><input class=\"sk-toggleable__control sk-hidden--visually\" id=\"sk-estimator-id-3\" type=\"checkbox\" checked><label for=\"sk-estimator-id-3\" class=\"sk-toggleable__label sk-toggleable__label-arrow\">LogisticRegression</label><div class=\"sk-toggleable__content\"><pre>LogisticRegression(max_iter=300)</pre></div></div></div></div></div>"
      ],
      "text/plain": [
       "LogisticRegression(max_iter=300)"
      ]
     },
     "execution_count": 24,
     "metadata": {},
     "output_type": "execute_result"
    }
   ],
   "source": [
    "from sklearn.linear_model import LogisticRegression\n",
    "\n",
    "models_d['LogisticRegression'] = LogisticRegression(max_iter=300)\n",
    "models_d['LogisticRegression'].fit(X_train_tfidf, y_train)"
   ]
  },
  {
   "cell_type": "code",
   "execution_count": 16,
   "id": "7ae670f8",
   "metadata": {
    "scrolled": true
   },
   "outputs": [
    {
     "name": "stdout",
     "output_type": "stream",
     "text": [
      "Learning rate set to 0.5\n",
      "0:\tlearn: 0.9998642\ttotal: 5.07s\tremaining: 2m 27s\n",
      "1:\tlearn: 0.9999853\ttotal: 9.86s\tremaining: 2m 17s\n",
      "2:\tlearn: 0.9999965\ttotal: 13.4s\tremaining: 2m 1s\n",
      "3:\tlearn: 0.9999980\ttotal: 17.4s\tremaining: 1m 52s\n",
      "4:\tlearn: 0.9999993\ttotal: 20.8s\tremaining: 1m 43s\n",
      "5:\tlearn: 0.9999993\ttotal: 24.1s\tremaining: 1m 36s\n",
      "6:\tlearn: 0.9999993\ttotal: 27.2s\tremaining: 1m 29s\n",
      "7:\tlearn: 0.9999993\ttotal: 30.3s\tremaining: 1m 23s\n",
      "8:\tlearn: 0.9999993\ttotal: 32.9s\tremaining: 1m 16s\n",
      "9:\tlearn: 0.9999993\ttotal: 35.5s\tremaining: 1m 11s\n",
      "10:\tlearn: 0.9999993\ttotal: 38.8s\tremaining: 1m 6s\n",
      "11:\tlearn: 0.9999993\ttotal: 41.3s\tremaining: 1m 1s\n",
      "12:\tlearn: 0.9999993\ttotal: 43.7s\tremaining: 57.1s\n",
      "13:\tlearn: 0.9999993\ttotal: 46s\tremaining: 52.6s\n",
      "14:\tlearn: 0.9999993\ttotal: 50s\tremaining: 50s\n",
      "15:\tlearn: 0.9999993\ttotal: 53.4s\tremaining: 46.8s\n",
      "16:\tlearn: 0.9999993\ttotal: 55.8s\tremaining: 42.7s\n",
      "17:\tlearn: 0.9999993\ttotal: 58.6s\tremaining: 39.1s\n",
      "18:\tlearn: 0.9999993\ttotal: 1m\tremaining: 35s\n",
      "19:\tlearn: 0.9999993\ttotal: 1m 3s\tremaining: 31.7s\n",
      "20:\tlearn: 0.9999993\ttotal: 1m 5s\tremaining: 28.1s\n",
      "21:\tlearn: 0.9999993\ttotal: 1m 8s\tremaining: 25.1s\n",
      "22:\tlearn: 0.9999993\ttotal: 1m 11s\tremaining: 21.8s\n",
      "23:\tlearn: 0.9999993\ttotal: 1m 14s\tremaining: 18.7s\n",
      "24:\tlearn: 0.9999993\ttotal: 1m 17s\tremaining: 15.6s\n",
      "25:\tlearn: 0.9999993\ttotal: 1m 19s\tremaining: 12.3s\n",
      "26:\tlearn: 0.9999993\ttotal: 1m 22s\tremaining: 9.14s\n",
      "27:\tlearn: 0.9999993\ttotal: 1m 24s\tremaining: 6.05s\n",
      "28:\tlearn: 0.9999993\ttotal: 1m 27s\tremaining: 3.02s\n",
      "29:\tlearn: 0.9999993\ttotal: 1m 30s\tremaining: 0us\n"
     ]
    },
    {
     "data": {
      "text/plain": [
       "<catboost.core.CatBoostClassifier at 0x7fe84fcff430>"
      ]
     },
     "execution_count": 16,
     "metadata": {},
     "output_type": "execute_result"
    }
   ],
   "source": [
    "from catboost import CatBoostClassifier\n",
    "\n",
    "models_d['CatBoostClassifier'] = CatBoostClassifier(iterations=30, depth=5, eval_metric='Accuracy') # 200\n",
    "models_d['CatBoostClassifier'].fit(X_train_tfidf, y_train)"
   ]
  },
  {
   "cell_type": "code",
   "execution_count": 17,
   "id": "b27f970f",
   "metadata": {},
   "outputs": [
    {
     "data": {
      "text/html": [
       "<style>#sk-container-id-2 {color: black;background-color: white;}#sk-container-id-2 pre{padding: 0;}#sk-container-id-2 div.sk-toggleable {background-color: white;}#sk-container-id-2 label.sk-toggleable__label {cursor: pointer;display: block;width: 100%;margin-bottom: 0;padding: 0.3em;box-sizing: border-box;text-align: center;}#sk-container-id-2 label.sk-toggleable__label-arrow:before {content: \"▸\";float: left;margin-right: 0.25em;color: #696969;}#sk-container-id-2 label.sk-toggleable__label-arrow:hover:before {color: black;}#sk-container-id-2 div.sk-estimator:hover label.sk-toggleable__label-arrow:before {color: black;}#sk-container-id-2 div.sk-toggleable__content {max-height: 0;max-width: 0;overflow: hidden;text-align: left;background-color: #f0f8ff;}#sk-container-id-2 div.sk-toggleable__content pre {margin: 0.2em;color: black;border-radius: 0.25em;background-color: #f0f8ff;}#sk-container-id-2 input.sk-toggleable__control:checked~div.sk-toggleable__content {max-height: 200px;max-width: 100%;overflow: auto;}#sk-container-id-2 input.sk-toggleable__control:checked~label.sk-toggleable__label-arrow:before {content: \"▾\";}#sk-container-id-2 div.sk-estimator input.sk-toggleable__control:checked~label.sk-toggleable__label {background-color: #d4ebff;}#sk-container-id-2 div.sk-label input.sk-toggleable__control:checked~label.sk-toggleable__label {background-color: #d4ebff;}#sk-container-id-2 input.sk-hidden--visually {border: 0;clip: rect(1px 1px 1px 1px);clip: rect(1px, 1px, 1px, 1px);height: 1px;margin: -1px;overflow: hidden;padding: 0;position: absolute;width: 1px;}#sk-container-id-2 div.sk-estimator {font-family: monospace;background-color: #f0f8ff;border: 1px dotted black;border-radius: 0.25em;box-sizing: border-box;margin-bottom: 0.5em;}#sk-container-id-2 div.sk-estimator:hover {background-color: #d4ebff;}#sk-container-id-2 div.sk-parallel-item::after {content: \"\";width: 100%;border-bottom: 1px solid gray;flex-grow: 1;}#sk-container-id-2 div.sk-label:hover label.sk-toggleable__label {background-color: #d4ebff;}#sk-container-id-2 div.sk-serial::before {content: \"\";position: absolute;border-left: 1px solid gray;box-sizing: border-box;top: 0;bottom: 0;left: 50%;z-index: 0;}#sk-container-id-2 div.sk-serial {display: flex;flex-direction: column;align-items: center;background-color: white;padding-right: 0.2em;padding-left: 0.2em;position: relative;}#sk-container-id-2 div.sk-item {position: relative;z-index: 1;}#sk-container-id-2 div.sk-parallel {display: flex;align-items: stretch;justify-content: center;background-color: white;position: relative;}#sk-container-id-2 div.sk-item::before, #sk-container-id-2 div.sk-parallel-item::before {content: \"\";position: absolute;border-left: 1px solid gray;box-sizing: border-box;top: 0;bottom: 0;left: 50%;z-index: -1;}#sk-container-id-2 div.sk-parallel-item {display: flex;flex-direction: column;z-index: 1;position: relative;background-color: white;}#sk-container-id-2 div.sk-parallel-item:first-child::after {align-self: flex-end;width: 50%;}#sk-container-id-2 div.sk-parallel-item:last-child::after {align-self: flex-start;width: 50%;}#sk-container-id-2 div.sk-parallel-item:only-child::after {width: 0;}#sk-container-id-2 div.sk-dashed-wrapped {border: 1px dashed gray;margin: 0 0.4em 0.5em 0.4em;box-sizing: border-box;padding-bottom: 0.4em;background-color: white;}#sk-container-id-2 div.sk-label label {font-family: monospace;font-weight: bold;display: inline-block;line-height: 1.2em;}#sk-container-id-2 div.sk-label-container {text-align: center;}#sk-container-id-2 div.sk-container {/* jupyter's `normalize.less` sets `[hidden] { display: none; }` but bootstrap.min.css set `[hidden] { display: none !important; }` so we also need the `!important` here to be able to override the default hidden behavior on the sphinx rendered scikit-learn.org. See: https://github.com/scikit-learn/scikit-learn/issues/21755 */display: inline-block !important;position: relative;}#sk-container-id-2 div.sk-text-repr-fallback {display: none;}</style><div id=\"sk-container-id-2\" class=\"sk-top-container\"><div class=\"sk-text-repr-fallback\"><pre>MultinomialNB(alpha=0.01)</pre><b>In a Jupyter environment, please rerun this cell to show the HTML representation or trust the notebook. <br />On GitHub, the HTML representation is unable to render, please try loading this page with nbviewer.org.</b></div><div class=\"sk-container\" hidden><div class=\"sk-item\"><div class=\"sk-estimator sk-toggleable\"><input class=\"sk-toggleable__control sk-hidden--visually\" id=\"sk-estimator-id-2\" type=\"checkbox\" checked><label for=\"sk-estimator-id-2\" class=\"sk-toggleable__label sk-toggleable__label-arrow\">MultinomialNB</label><div class=\"sk-toggleable__content\"><pre>MultinomialNB(alpha=0.01)</pre></div></div></div></div></div>"
      ],
      "text/plain": [
       "MultinomialNB(alpha=0.01)"
      ]
     },
     "execution_count": 17,
     "metadata": {},
     "output_type": "execute_result"
    }
   ],
   "source": [
    "from sklearn.naive_bayes import MultinomialNB\n",
    "\n",
    "models_d['NaïveBayes'] = MultinomialNB(alpha=0.01) # alpha - Additive smoothing parameter\n",
    "models_d['NaïveBayes'].fit(X_train_tfidf, y_train)"
   ]
  },
  {
   "cell_type": "code",
   "execution_count": 188,
   "id": "795a0c38",
   "metadata": {},
   "outputs": [
    {
     "name": "stdout",
     "output_type": "stream",
     "text": [
      "DONE\n",
      "DONE\n",
      "DONE\n"
     ]
    }
   ],
   "source": [
    "### LSTM\n",
    "import tensorflow as tf\n",
    "from tensorflow.keras.preprocessing.text import Tokenizer\n",
    "from tensorflow.keras.preprocessing.sequence import pad_sequences\n",
    "from tensorflow.keras.callbacks import EarlyStopping\n",
    "from tensorflow.keras.models import Sequential\n",
    "from tensorflow.keras.layers import LSTM, Dense, Embedding, Dropout, GlobalAveragePooling1D, SpatialDropout1D\n",
    "\n",
    "### preprocessing\n",
    "max_len = 32\n",
    "vocab_size = 10000\n",
    "\n",
    "tokenizer = Tokenizer(num_words=vocab_size, char_level=False, oov_token='<OOV>')\n",
    "tokenizer.fit_on_texts(X_train)\n",
    "print('DONE')\n",
    "\n",
    "training_sequences = tokenizer.texts_to_sequences(X_train)\n",
    "training_padded = pad_sequences(training_sequences, maxlen=max_len, padding='post', truncating='post')\n",
    "print('DONE')\n",
    "\n",
    "testing_sequences = tokenizer.texts_to_sequences(X_test)\n",
    "testing_padded = pad_sequences(testing_sequences, maxlen=max_len, padding='post', truncating='post')\n",
    "print('DONE')"
   ]
  },
  {
   "cell_type": "code",
   "execution_count": 22,
   "id": "575cf729",
   "metadata": {},
   "outputs": [
    {
     "name": "stdout",
     "output_type": "stream",
     "text": [
      "Model: \"sequential_1\"\n",
      "_________________________________________________________________\n",
      " Layer (type)                Output Shape              Param #   \n",
      "=================================================================\n",
      " embedding (Embedding)       (None, 32, 16)            160000    \n",
      "                                                                 \n",
      " spatial_dropout1d (SpatialD  (None, 32, 16)           0         \n",
      " ropout1D)                                                       \n",
      "                                                                 \n",
      " lstm (LSTM)                 (None, 32)                6272      \n",
      "                                                                 \n",
      " dropout (Dropout)           (None, 32)                0         \n",
      "                                                                 \n",
      " dense (Dense)               (None, 1)                 33        \n",
      "                                                                 \n",
      "=================================================================\n",
      "Total params: 166,305\n",
      "Trainable params: 166,305\n",
      "Non-trainable params: 0\n",
      "_________________________________________________________________\n"
     ]
    }
   ],
   "source": [
    "### model\n",
    "embedding_dim = 16\n",
    "\n",
    "# Define Dense Model Architecture\n",
    "modelLSTM = Sequential()\n",
    "modelLSTM.add(Embedding(vocab_size, embedding_dim, input_length=max_len))\n",
    "modelLSTM.add(SpatialDropout1D(0.5)) # as in paper\n",
    "modelLSTM.add(LSTM(32, return_sequences=False)) # as in paper\n",
    "modelLSTM.add(Dropout(0.5)) # as in paper\n",
    "modelLSTM.add(Dense(1, activation='sigmoid'))\n",
    "\n",
    "\n",
    "modelLSTM.compile(loss='binary_crossentropy', optimizer = 'adam' , metrics = ['accuracy'])\n",
    "modelLSTM.summary()"
   ]
  },
  {
   "cell_type": "code",
   "execution_count": 254,
   "id": "4f26609c",
   "metadata": {},
   "outputs": [
    {
     "name": "stdout",
     "output_type": "stream",
     "text": [
      "26758/26758 [==============================] - 458s 17ms/step - loss: 0.0019 - accuracy: 0.9995 - val_loss: 1.2019e-04 - val_accuracy: 1.0000\n"
     ]
    }
   ],
   "source": [
    "early_stop = EarlyStopping(monitor='val_loss', min_delta=0.01)\n",
    "history = modelLSTM.fit(training_padded, y_train, epochs=1, batch_size=256,\n",
    "                    validation_data=(testing_padded, y_test), callbacks =[early_stop])"
   ]
  },
  {
   "cell_type": "code",
   "execution_count": 255,
   "id": "287322fc",
   "metadata": {},
   "outputs": [
    {
     "data": {
      "text/plain": [
       "(0.9999570671317409,\n",
       " [0.9999579235751871, 0.9999894805618315, 0.9999737018195418, 855559])"
      ]
     },
     "execution_count": 255,
     "metadata": {},
     "output_type": "execute_result"
    }
   ],
   "source": [
    "# model.evaluate(testing_padded, y_test)\n",
    "lstm_pred_proba = modelLSTM.predict(testing_padded)\n",
    "lstm_pred = np.where(lstm_pred_proba.reshape(-1)>0.5, 1, 0)\n",
    "lstm_train_pred_proba = modelLSTM.predict(training_padded)\n",
    "lstm_train_pred = np.where(lstm_train_pred_proba.reshape(-1)>0.5, 1, 0)\n",
    "accuracy_score(y_test, lstm_pred), [x[0] for x in precision_recall_fscore_support(y_test, lstm_pred)]"
   ]
  },
  {
   "cell_type": "markdown",
   "id": "ee8cd331",
   "metadata": {},
   "source": [
    "#### Word2Vec embedding"
   ]
  },
  {
   "cell_type": "code",
   "execution_count": 299,
   "id": "b09c65a5",
   "metadata": {},
   "outputs": [],
   "source": [
    "### Word2Vec + LSTM\n",
    "from gensim.models import Word2Vec\n",
    "\n",
    "w2v = Word2Vec(sentences=X_train_preproc.apply(lambda x: x.split(' ')), \n",
    "               vector_size=embedding_dim, window=5, min_count=10, max_vocab_size=vocab_size)\n",
    "\n",
    "embedding_matrix = np.zeros((vocab_size, embedding_dim))\n",
    "for word, i in w2v.wv.key_to_index.items():\n",
    "    embedding_vector = w2v.wv[word]\n",
    "    if embedding_vector is not None:\n",
    "        embedding_matrix[i] = embedding_vector"
   ]
  },
  {
   "cell_type": "code",
   "execution_count": 302,
   "id": "0af526ea",
   "metadata": {},
   "outputs": [
    {
     "name": "stdout",
     "output_type": "stream",
     "text": [
      "Model: \"sequential_12\"\n",
      "_________________________________________________________________\n",
      " Layer (type)                Output Shape              Param #   \n",
      "=================================================================\n",
      " w2v_embedding (Embedding)   (None, 32, 16)            160000    \n",
      "                                                                 \n",
      " spatial_dropout1d_7 (Spatia  (None, 32, 16)           0         \n",
      " lDropout1D)                                                     \n",
      "                                                                 \n",
      " lstm_7 (LSTM)               (None, 32)                6272      \n",
      "                                                                 \n",
      " dropout_12 (Dropout)        (None, 32)                0         \n",
      "                                                                 \n",
      " dense_17 (Dense)            (None, 1)                 33        \n",
      "                                                                 \n",
      "=================================================================\n",
      "Total params: 166,305\n",
      "Trainable params: 166,305\n",
      "Non-trainable params: 0\n",
      "_________________________________________________________________\n"
     ]
    }
   ],
   "source": [
    "# Define Dense Model Architecture\n",
    "modelLSTM = Sequential()\n",
    "modelLSTM.add(Embedding(vocab_size, embedding_dim, weights=[embedding_matrix], \n",
    "                        input_length=max_len, name=\"w2v_embedding\"))\n",
    "modelLSTM.add(SpatialDropout1D(0.5)) # as in paper\n",
    "modelLSTM.add(LSTM(32, return_sequences=False)) # as in paper\n",
    "modelLSTM.add(Dropout(0.5)) # as in paper\n",
    "modelLSTM.add(Dense(1, activation='sigmoid'))\n",
    "\n",
    "\n",
    "modelLSTM.compile(loss='binary_crossentropy', optimizer = 'adam' , metrics = ['accuracy'])\n",
    "modelLSTM.summary()"
   ]
  },
  {
   "cell_type": "code",
   "execution_count": 303,
   "id": "25318389",
   "metadata": {},
   "outputs": [
    {
     "name": "stdout",
     "output_type": "stream",
     "text": [
      "26758/26758 [==============================] - 470s 17ms/step - loss: 0.0167 - accuracy: 0.9948 - val_loss: 6.6581e-04 - val_accuracy: 0.9999\n"
     ]
    }
   ],
   "source": [
    "early_stop = EarlyStopping(monitor='val_loss', min_delta=0.01)\n",
    "history = modelLSTM.fit(training_padded, y_train, epochs=1, batch_size=256,\n",
    "                    validation_data=(testing_padded, y_test), callbacks =[early_stop]) # , verbose=2)"
   ]
  },
  {
   "cell_type": "code",
   "execution_count": 304,
   "id": "5920b7dd",
   "metadata": {},
   "outputs": [
    {
     "data": {
      "text/plain": [
       "(0.9999208127096555,\n",
       " [0.9999357165732025, 0.9999672728590313, 0.999951494467155, 855559])"
      ]
     },
     "execution_count": 304,
     "metadata": {},
     "output_type": "execute_result"
    }
   ],
   "source": [
    "lstm_pred_proba = modelLSTM.predict(testing_padded)\n",
    "lstm_pred = np.where(lstm_pred_proba.reshape(-1)>0.5, 1, 0)\n",
    "lstm_train_pred_proba = modelLSTM.predict(training_padded)\n",
    "lstm_train_pred = np.where(lstm_train_pred_proba.reshape(-1)>0.5, 1, 0)\n",
    "accuracy_score(y_test, lstm_pred), [x[0] for x in precision_recall_fscore_support(y_test, lstm_pred)]"
   ]
  },
  {
   "cell_type": "markdown",
   "id": "4973779b",
   "metadata": {},
   "source": [
    "### evaluation"
   ]
  },
  {
   "cell_type": "code",
   "execution_count": 201,
   "id": "9c21ab8f",
   "metadata": {},
   "outputs": [],
   "source": [
    "metrics = []\n",
    "for model in models_d.keys():\n",
    "    train_pred = models_d[model].predict(X_train_tfidf)\n",
    "    test_pred = models_d[model].predict(X_test_tfidf)\n",
    "    metrics.append([\n",
    "        model,\n",
    "        round_up(accuracy_score(y_train, train_pred)),\n",
    "        *[round_up(x[0]) for x in precision_recall_fscore_support(y_train, train_pred)[:3]],\n",
    "        round_up(accuracy_score(y_test, test_pred)),\n",
    "        *[round_up(x[0]) for x in precision_recall_fscore_support(y_test, test_pred)[:3]]\n",
    "    ])\n",
    "\n",
    "# LSTM uses separate input, so add separately\n",
    "metrics.append(['LSTM', round_up(accuracy_score(y_train, lstm_train_pred)), \n",
    "                *[round_up(x[0]) for x in precision_recall_fscore_support(y_train, lstm_train_pred)[:3]],\n",
    "                round_up(accuracy_score(y_test, lstm_pred)),\n",
    "                *[round_up(x[0]) for x in precision_recall_fscore_support(y_test, lstm_pred)[:3]]])"
   ]
  },
  {
   "cell_type": "code",
   "execution_count": 202,
   "id": "8a7038b9",
   "metadata": {},
   "outputs": [
    {
     "data": {
      "text/html": [
       "<div>\n",
       "<style scoped>\n",
       "    .dataframe tbody tr th:only-of-type {\n",
       "        vertical-align: middle;\n",
       "    }\n",
       "\n",
       "    .dataframe tbody tr th {\n",
       "        vertical-align: top;\n",
       "    }\n",
       "\n",
       "    .dataframe thead th {\n",
       "        text-align: right;\n",
       "    }\n",
       "</style>\n",
       "<table border=\"1\" class=\"dataframe\">\n",
       "  <thead>\n",
       "    <tr style=\"text-align: right;\">\n",
       "      <th></th>\n",
       "      <th>model</th>\n",
       "      <th>train accuracy</th>\n",
       "      <th>train precision</th>\n",
       "      <th>train recall</th>\n",
       "      <th>train F1</th>\n",
       "      <th>test accuracy</th>\n",
       "      <th>test precision</th>\n",
       "      <th>test recall</th>\n",
       "      <th>test F1</th>\n",
       "    </tr>\n",
       "  </thead>\n",
       "  <tbody>\n",
       "    <tr>\n",
       "      <th>0</th>\n",
       "      <td>LogisticRegression</td>\n",
       "      <td>0.99</td>\n",
       "      <td>0.99</td>\n",
       "      <td>0.99</td>\n",
       "      <td>0.99</td>\n",
       "      <td>0.99</td>\n",
       "      <td>0.99</td>\n",
       "      <td>0.99</td>\n",
       "      <td>0.99</td>\n",
       "    </tr>\n",
       "    <tr>\n",
       "      <th>1</th>\n",
       "      <td>CatBoostClassifier</td>\n",
       "      <td>0.99</td>\n",
       "      <td>0.99</td>\n",
       "      <td>1.00</td>\n",
       "      <td>0.99</td>\n",
       "      <td>0.99</td>\n",
       "      <td>0.99</td>\n",
       "      <td>1.00</td>\n",
       "      <td>0.99</td>\n",
       "    </tr>\n",
       "    <tr>\n",
       "      <th>2</th>\n",
       "      <td>NaïveBayes</td>\n",
       "      <td>0.98</td>\n",
       "      <td>0.97</td>\n",
       "      <td>0.99</td>\n",
       "      <td>0.98</td>\n",
       "      <td>0.99</td>\n",
       "      <td>0.99</td>\n",
       "      <td>0.99</td>\n",
       "      <td>0.99</td>\n",
       "    </tr>\n",
       "    <tr>\n",
       "      <th>3</th>\n",
       "      <td>LSTM</td>\n",
       "      <td>0.99</td>\n",
       "      <td>0.99</td>\n",
       "      <td>0.99</td>\n",
       "      <td>0.99</td>\n",
       "      <td>0.99</td>\n",
       "      <td>0.99</td>\n",
       "      <td>0.99</td>\n",
       "      <td>0.99</td>\n",
       "    </tr>\n",
       "  </tbody>\n",
       "</table>\n",
       "</div>"
      ],
      "text/plain": [
       "                model  train accuracy  train precision  train recall  \\\n",
       "0  LogisticRegression            0.99             0.99          0.99   \n",
       "1  CatBoostClassifier            0.99             0.99          1.00   \n",
       "2          NaïveBayes            0.98             0.97          0.99   \n",
       "3                LSTM            0.99             0.99          0.99   \n",
       "\n",
       "   train F1  test accuracy  test precision  test recall  test F1  \n",
       "0      0.99           0.99            0.99         0.99     0.99  \n",
       "1      0.99           0.99            0.99         1.00     0.99  \n",
       "2      0.98           0.99            0.99         0.99     0.99  \n",
       "3      0.99           0.99            0.99         0.99     0.99  "
      ]
     },
     "execution_count": 202,
     "metadata": {},
     "output_type": "execute_result"
    }
   ],
   "source": [
    "metrics_df = pd.DataFrame(metrics, \n",
    "                          columns=['model', 'train accuracy', 'train precision', 'train recall', 'train F1', \n",
    "                                   'test accuracy', 'test precision', 'test recall', 'test F1'])\n",
    "metrics_df"
   ]
  },
  {
   "cell_type": "markdown",
   "id": "a8558221",
   "metadata": {},
   "source": [
    "### visualization"
   ]
  },
  {
   "cell_type": "code",
   "execution_count": 305,
   "id": "c8203f58",
   "metadata": {},
   "outputs": [
    {
     "data": {
      "image/png": "[encoded data removed]",
      "text/plain": [
       "<Figure size 432x288 with 1 Axes>"
      ]
     },
     "metadata": {
      "needs_background": "light"
     },
     "output_type": "display_data"
    }
   ],
   "source": [
    "# Word2Vec + LSTM\n",
    "lstm_pred_proba_2D = list(zip(1-lstm_pred_proba.reshape(-1), lstm_pred_proba.reshape(-1)))\n",
    "plot_roc(y_test, lstm_pred_proba_2D, title='Word2Vec + LSTM: ROC Curves')\n",
    "plt.show()"
   ]
  },
  {
   "cell_type": "code",
   "execution_count": 23,
   "id": "6d7a53f7",
   "metadata": {
    "scrolled": true
   },
   "outputs": [],
   "source": [
    "# # LSTM\n",
    "# lstm_pred_proba_2D = list(zip(1-lstm_pred_proba.reshape(-1), lstm_pred_proba.reshape(-1)))\n",
    "# plot_roc(y_test, lstm_pred_proba_2D, title='LSTM: ROC Curves')\n",
    "# plt.show()"
   ]
  },
  {
   "cell_type": "code",
   "execution_count": 219,
   "id": "403c0a9f",
   "metadata": {},
   "outputs": [
    {
     "data": {
      "image/png": "[encoded data removed]",
      "text/plain": [
       "<Figure size 720x432 with 1 Axes>"
      ]
     },
     "metadata": {
      "needs_background": "light"
     },
     "output_type": "display_data"
    }
   ],
   "source": [
    "plt.figure(figsize=(10, 6))\n",
    "plt.hist([lstm_pred_proba.reshape(-1)[y_test==0], lstm_pred_proba.reshape(-1)[y_test==1]], \n",
    "         color=['royalblue', 'crimson'], label=['negative true label', 'positive true label'], bins=100)\n",
    "plt.title('Predicted probability distribution')\n",
    "plt.xlabel('probability')\n",
    "plt.ylabel('number of samples')\n",
    "plt.legend(prop={'size': 12})\n",
    "plt.show()"
   ]
  },
  {
   "cell_type": "code",
   "execution_count": 264,
   "id": "7a6d85a2",
   "metadata": {},
   "outputs": [
    {
     "data": {
      "image/png": "[encoded data removed]",
      "text/plain": [
       "<Figure size 1440x360 with 1 Axes>"
      ]
     },
     "metadata": {
      "needs_background": "light"
     },
     "output_type": "display_data"
    },
    {
     "data": {
      "image/png": "[encoded data removed]",
      "text/plain": [
       "<Figure size 1440x360 with 1 Axes>"
      ]
     },
     "metadata": {
      "needs_background": "light"
     },
     "output_type": "display_data"
    }
   ],
   "source": [
    "tfidf_importances = list(zip(tfidf.get_feature_names_out(), models_d['LogisticRegression'].coef_[0]))\n",
    "tfidf_importances_sorted = sorted(tfidf_importances, key=lambda x: x[1], reverse=True)\n",
    "tfidf_importances_desorted = sorted(tfidf_importances, key=lambda x: x[1])\n",
    "\n",
    "plt.figure(figsize=(20, 5))\n",
    "plt.bar([x[0] for x in tfidf_importances_sorted[:30]], [x[1] for x in tfidf_importances_sorted[:30]], \n",
    "        color='royalblue')\n",
    "plt.title('Most important logistic regression features (positive impact on exception class probability)', size=20)\n",
    "plt.xticks(rotation=90, fontsize=12)\n",
    "plt.show()\n",
    "\n",
    "plt.figure(figsize=(20, 5))\n",
    "plt.bar([x[0] for x in tfidf_importances_desorted[:30]], [x[1] for x in tfidf_importances_desorted[:30]], \n",
    "        color='crimson')\n",
    "plt.title('Most important logistic regression features (negative impact on exception class probability)', size=20)\n",
    "plt.xticks(rotation=90, fontsize=12)\n",
    "plt.show()"
   ]
  },
  {
   "cell_type": "code",
   "execution_count": null,
   "id": "1c79fb62",
   "metadata": {},
   "outputs": [],
   "source": []
  }
 ],
 "metadata": {
  "kernelspec": {
   "display_name": "Python 3",
   "language": "python",
   "name": "python3"
  },
  "language_info": {
   "codemirror_mode": {
    "name": "ipython",
    "version": 3
   },
   "file_extension": ".py",
   "mimetype": "text/x-python",
   "name": "python",
   "nbconvert_exporter": "python",
   "pygments_lexer": "ipython3",
   "version": "3.8.8"
  }
 },
 "nbformat": 4,
 "nbformat_minor": 5
}
